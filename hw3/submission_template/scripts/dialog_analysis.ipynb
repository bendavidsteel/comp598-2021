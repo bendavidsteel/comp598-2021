{
 "cells": [
  {
   "cell_type": "code",
   "execution_count": 8,
   "source": [
    "import os\n",
    "import re\n",
    "\n",
    "import pandas as pd"
   ],
   "outputs": [],
   "metadata": {}
  },
  {
   "cell_type": "code",
   "execution_count": 6,
   "source": [
    "df = pd.read_csv(os.path.abspath('../data/clean_dialog.csv'))"
   ],
   "outputs": [],
   "metadata": {}
  },
  {
   "cell_type": "code",
   "execution_count": 11,
   "source": [
    "char_regexes = {    \n",
    "    'twilight sparkle': r'[Tt]wilight [Ss]parkle',\n",
    "    'applejack': r'[Aa]pplejack', \n",
    "    'rarity': r'[Rr]arity', \n",
    "    'pinkie pie': r'[Pp]inkie [Pp]ie', \n",
    "    'rainbow dash': r'[Rr]ainbow [Dd]ash', \n",
    "    'fluttershy': r'[Ff]luttershy'\n",
    "}"
   ],
   "outputs": [],
   "metadata": {}
  },
  {
   "cell_type": "code",
   "execution_count": 22,
   "source": [
    "speakers = list(df['pony'].unique())\n",
    "\n",
    "name_variations = {}\n",
    "\n",
    "for char, regex in char_regexes.items():\n",
    "    name_variations[char] = sorted(list(df[df['pony'].str.count(regex) > 0]['pony'].unique()))\n",
    "\n",
    "\n",
    "for variations in name_variations.values():\n",
    "    for speaker in speakers:\n",
    "        if speaker in variations:\n",
    "            speakers.remove(speaker)\n",
    "\n",
    "print(name_variations)\n",
    "print('')\n",
    "print(sorted(speakers))"
   ],
   "outputs": [
    {
     "output_type": "stream",
     "name": "stdout",
     "text": [
      "{'twilight sparkle': ['All except Twilight Sparkle and Fluttershy', 'All sans Twilight Sparkle', 'Applejack and Twilight Sparkle', 'Fluttershy and Twilight Sparkle', 'Future Twilight Sparkle', 'Illusion Twilight Sparkle', 'Main cast sans Twilight Sparkle', 'Mean Twilight Sparkle', 'Narrator and Twilight Sparkle', 'Past Twilight Sparkle', 'Pinkie Pie and Twilight Sparkle', 'Pond Twilight Sparkle', 'Ponies except Twilight Sparkle', 'Princess Cadance and Twilight Sparkle', 'Rainbow Dash and Twilight Sparkle', 'Sunburst and Twilight Sparkle', 'Twilight Sparkle', 'Twilight Sparkle and Cutie Mark Crusaders', 'Twilight Sparkle and Princess Cadance', 'Twilight Sparkle and Rainbow Dash', 'Twilight Sparkle and Rarity', 'Twilight Sparkle and Spike', 'Twilight Sparkle and Starlight Glimmer', \"Twilight Sparkle's apparition\", 'Young Twilight Sparkle'], 'applejack': ['Apple Bloom and Applejack', 'Applejack', 'Applejack and Apple Bloom', 'Applejack and Apple family', 'Applejack and Fluttershy', 'Applejack and Granny Smith', 'Applejack and Pinkie Pie', 'Applejack and Rainbow Dash', 'Applejack and Rarity', 'Applejack and Twilight Sparkle', 'Applejack vision', \"Applejack's apparition\", 'Baby Applejack', 'Choir and Applejack', 'Granny Smith and Young Applejack', 'Main cast sans Fluttershy and Applejack', 'Mean Applejack', 'Pinkie Pie and Applejack', 'Rainbow Dash and Applejack', 'Rarity and Applejack', 'Spike and Applejack', 'Young Applejack'], 'rarity': ['All but Rarity', 'All except Rarity', 'All sans Rarity', 'Applejack and Rarity', 'Choir and Rarity', 'Fashion Plate and Rarity', 'Fluttershy and Rarity', 'Illusion Rarity', 'Lady Rarity', 'Main cast sans Rarity', 'Mean Rarity', 'Pinkie Pie and Rarity', 'Pond Rarity', 'Rainbow Dash and Rarity', 'Rarity', 'Rarity Angel', 'Rarity Devil', 'Rarity and Applejack', 'Rarity and Pinkie Pie', 'Rarity and Rainbow Dash', 'Rarity and Spike', 'Rarity and Starlight Glimmer', 'Rarity and Sweetie Belle', \"Rarity's apparition\", \"Rarity's teacher\", 'Twilight Sparkle and Rarity', 'Young Rarity'], 'pinkie pie': ['Applejack and Pinkie Pie', 'Choir and Pinkie Pie', 'Fluttershy and Pinkie Pie', 'Main cast sans Pinkie Pie', 'Mean Pinkie Pie', 'Mrs. Cake and Pinkie Pie', 'Pinkie Pie', 'Pinkie Pie 2', 'Pinkie Pie 3', 'Pinkie Pie Duplicate', 'Pinkie Pie Duplicate 2', 'Pinkie Pie Duplicate 3', 'Pinkie Pie Duplicate 4', 'Pinkie Pie Duplicate 5', 'Pinkie Pie Duplicate 6', 'Pinkie Pie Duplicates', 'Pinkie Pie and Alice', 'Pinkie Pie and Applejack', 'Pinkie Pie and Cheese Sandwich', 'Pinkie Pie and Pinkie Pie 2', 'Pinkie Pie and Princess Skystar', 'Pinkie Pie and Rainbow Dash', 'Pinkie Pie and Rarity', 'Pinkie Pie and Saffron Masala', 'Pinkie Pie and Twilight Sparkle', 'Pinkie Pie voicing a bag of flour', 'Pinkie Pie voicing a bucket of turnips', 'Pinkie Pie voicing a clump of lint', 'Pinkie Pie voicing a pile of rocks', 'Pond Pinkie Pie', 'Rainbow Dash and Pinkie Pie', 'Rarity and Pinkie Pie', 'Young Pinkie Pie'], 'rainbow dash': ['All but Rainbow Dash', 'Applejack and Rainbow Dash', 'Big McIntosh and Rainbow Dash', 'Choir and Rainbow Dash', 'Fluttershy and Rainbow Dash', 'Gilda and Rainbow Dash', 'Illusion Rainbow Dash', 'Main cast sans Rainbow Dash', 'Mean Rainbow Dash', 'Pinkie Pie and Rainbow Dash', 'Pond Rainbow Dash', 'Rainbow Dash', 'Rainbow Dash and Applejack', 'Rainbow Dash and Captain Celaeno', 'Rainbow Dash and Discord', 'Rainbow Dash and Gilda', 'Rainbow Dash and Lightning Dust', 'Rainbow Dash and Pinkie Pie', 'Rainbow Dash and Quibble Pants', 'Rainbow Dash and Rarity', 'Rainbow Dash and Scootaloo', 'Rainbow Dash and Spitfire', 'Rainbow Dash and Twilight Sparkle', 'Rainbow Dash and Wonderbolts', \"Rainbow Dash's apparition\", 'Rarity and Rainbow Dash', 'Twilight Sparkle and Rainbow Dash', 'Young Gilda and Young Rainbow Dash', 'Young Rainbow Dash'], 'fluttershy': ['All except Fluttershy', 'All except Twilight Sparkle and Fluttershy', 'Applejack and Fluttershy', 'Choir and Fluttershy', 'Fluttershy', 'Fluttershy and Dr. Fauna', 'Fluttershy and Mage Meadowbrook', 'Fluttershy and Pinkie Pie', 'Fluttershy and Rainbow Dash', 'Fluttershy and Rarity', 'Fluttershy and Twilight Sparkle', 'Fluttershy and bird whistle', \"Fluttershy's apparition\", 'Main cast sans Fluttershy', 'Main cast sans Fluttershy and Applejack', 'Mean Fluttershy', 'Opposite Fluttershy', 'Pond Fluttershy', 'Twilight and Fluttershy', 'Young Fluttershy']}\n",
      "\n",
      "['A. K. Yearling', 'A.K. Yearling', 'Ace Point', 'Ahuizotl', 'Alice', 'All', 'All Discords', 'All Pegasi', 'All but Yona', 'All present characters bar Spike', 'All sans Celestia', 'All three Discords', 'Aloe', 'Amethyst Maresbury', 'Amethyst Star', 'Angel Wings', 'Announcer', 'Announcer and Crowd', 'Annoyed Delegate', 'Apple Bloom', 'Apple Bloom and Babs Seed', 'Apple Bloom and Big McIntosh', 'Apple Bloom and Big McIntosh as Orchard Blossom', 'Apple Bloom and Granny Smith', 'Apple Bloom and Scootaloo', 'Apple Bloom and Sweetie Belle', 'Apple Cobbler', 'Apple Dumpling', 'Apple Leaves', 'Apple Rose', 'Apple Split', 'Apple family', 'Apples', 'Art Vendor', 'Audience', 'Audience Pony', 'Aunt Orange', 'Auntie Applesauce', 'Aura', 'Aurora', 'Automated voice', 'Autumn Blaze', 'Autumn Gem', 'Babs Seed', 'Background ponies', 'Background pony 1', 'Background pony 2', 'Background pony 3', 'Background pony 4', 'Background voice', 'Bags Valet', 'Barker', 'Bernard Rabbit', 'Berryshine', 'Big Bucks', 'Big Daddy McColt', 'Big McIntosh', 'Big McIntosh and Feather Bangs', 'Big McIntosh and Granny Smith', 'Blaze', 'Blue Bobbin', 'Blueberry Curls', 'Booth Barker', 'Bori', 'Bori and Alice', 'Bow Hothoof', 'Bow Hothoof and Windy Whistles', 'Boyle', 'Bracer Britches', 'Braeburn', 'Breathing heavily', 'Breezette', 'Breezie', 'Breezies', 'Bright Mac', 'Bright Smile', 'Buddy', 'Buffalo', 'Bufogren', 'Bulk Biceps', 'Buried Lede', 'Burly Unicorn', 'Burnt Oak', 'Businesspony', 'Butterflies', 'Butternut', 'Capper', 'Captain Celaeno', 'Caramel', 'Carnival Barker', 'Castle Guard 1', 'Cattail', 'Chancellor Neighsay', 'Changeling', 'Changeling 1', 'Changeling 2', 'Changeling 3', 'Changeling Girl', 'Changelings', 'Chargrill Breadwinner', 'Cheerilee', 'Cheerilee and Big McIntosh', 'Cheese Sandwich', 'Cherry Berry', 'Cherry Berry and Comet Tail', 'Cherry Berry and Goldengrape', 'Cherry Fizzy', 'Cherry Jubilee', 'Chief Thunderhooves', 'Chiffon Swirl', \"Chimera's goat head\", \"Chimera's snake head\", \"Chimera's tiger head\", \"Chimera's tiger head and goat head\", 'Chipcutter', 'Choir', 'Cinnamon Chai', 'Citizens', 'Classmate Pony 2', 'Classmate Pony 3', 'Claude', 'Clear Skies', 'Clear Skies and Open Skies', 'Cloud Chaser', 'Cloudchaser', 'Cloudsdale cheerleaders', 'Cloudy Quartz', 'Coach ponies', 'Coco Pommel', 'Coconut Cream', 'Coconut Cream and Toola Roola', 'Code Red', 'Coloratura', 'Coloratura and Cutie Mark Crusaders', 'Colt', 'Comet Tail', 'Commander Ironhead', 'Conductor', 'Cookie Crumbles', 'Coriander Cumin', 'Cornicle', 'Cotton Cloudy', 'Count Caesar', 'Countess Coloratura', 'Cozy Glow', 'Crackle', 'Crafty Crate', 'Cranky Doodle Donkey', 'Cranky Doodle Donkey and Matilda', 'Cratus', 'Creature 1', 'Crowd', 'Crowd Pony 1', 'Crowd Pony 2', 'Crowd Pony 3', 'Cruise Pony 2', 'Cruise Pony 3', 'Cruise pony', 'Crusaders', 'Crusoe Palm', 'Crystal Beau', 'Crystal Clear', 'Crystal Guard', 'Crystal Ponies', 'Crystal Pony', 'Crystal Pony in Crowd', 'Customer Pony', 'Cutie Mark Crusaders', 'Daisy', 'Daisy and Lily Valley', 'DaisyJo', 'Dancers', 'Dandy Grandeur', 'Dane Tee Dove', 'Daring Do', 'Davenport', 'Daybreaker', 'Deer Creature', 'Delegate 2', 'Delegate Ponies', 'Deputy Copper', 'Derpy', 'Destitute Pony', 'Diamond Cutter', 'Diamond Dogs', 'Diamond Tiara', 'Diamond Tiara and Silver Spoon', 'Director', 'Discord', 'Discord 1', 'Discord 2', 'Discord 3', \"Discord's Ghost\", \"Discord's finger\", 'Doctor Horse', 'Donut Joe', 'Double Diamond', 'Dr. Caballeron', 'Dr. Fauna', 'Dr. Hooves', 'Dr. Horse', 'Dragon', 'Dragon Lord Torch', 'Dragons', 'Dream Ponies', 'Dream Pony', 'Drizzle', 'Duke of Maretonia', 'EMT Pony', 'Eclair Cr<e8>me', 'Elbow Grease', 'Elderly griffon', 'Ember', 'Ember and Thorax', 'Everyone but Twilight', 'Everypony', 'Everypony else', 'Fancy Pants', 'Fanpony', 'Fashion Plate', 'Feather Bangs', 'Featherweight', 'Female Pony 2', 'Female pony', 'Female seapony', 'Fido', 'Fido and Spot', 'Fillies', 'Film announcer', 'Filthy Rich', 'Firelight', 'Flam', 'Flash Magnus', 'Flash Sentry', 'Flashback Discord', 'Fleetfoot', 'Fleur De Verre', 'Fleur de Lis', 'Flim', 'Flim and Flam', 'Flitter', 'Fluffy Clouds', 'Flurry Heart', 'Foals', 'Foggy Fleece', 'Forceful Parent Pony', 'Frenulum', 'Fume', 'Gabby', 'Gala Appleby', 'Gallus', 'Garble', 'Gardening pony', 'Gilda', 'Gilda and Rainbow Dash', 'Gizmo', 'Gladmane', 'Glasses Stallion', 'Globe Trotter', 'Golden Gavel', 'Golden Harvest', 'Golden Hooves', 'Goldengrape', 'Goldie Delicious', 'Goofy Changeling', 'Grampa Gruff', 'Grand Pear', 'Grannies', 'Granny Smith', 'Granny Smith and Grand Pear', 'Green Changeling', 'Green apples', 'Green dragon', 'Group', 'Grubber', 'Guard', 'Guard 1', 'Guard 2', 'Gustave le Grand', 'Half Baked Apple', 'Hard Hat', 'Hayseed Turnip Truck', 'Helia', 'Henchpony', 'High Winds', 'Hinny of the Hills', 'Hippogriff Sailor', 'Hoity Toity', \"Holly the Hearth's Warmer Doll\", 'Hondo Flanks', 'Honeysparkle', \"Hoo'Far\", 'Hoofer Steps', 'Hooffields', 'Hoops', 'Horticultural Pegasus', 'Igneous Rock', 'Igneous Rock Pie', 'Inky Rose', 'Iron Will', 'Jack Hammer', 'Jack Pot', 'Janine Manewitz', 'Janitor Pony', 'Jeff Letrotski', 'Jet Set', 'Jet Set and Upper Crust', 'Joan Pommelway', 'Joe', 'Judge', 'Junebug', 'Kettle Corn', 'King Sombra', 'Laurette', 'Lemon Hearts', 'Lightning Dust', 'Lily Lace', 'Lily Valley', 'Limestone Pie', 'Little Pony 2', 'Little Strongheart', 'Lix Spittle', 'Liza Doolots', 'Lord Tirek', 'Lotus Blossom', 'Louise', 'Luckette', 'Lucky Clover', 'Lucy Packard', 'Lukas Graham', 'Lyra Heartstrings', 'Lyrica Lilac', 'Ma Hooffield', 'Maar', 'Madame le Flour', 'Madden', 'Mage Meabowbrook', 'Mage Meadowbrook', 'Mail Pony', 'Main cast', 'Main cast and crowd', 'Main cast sans Pinkie', 'Main cast sans Spike', 'Main cast sans Twilight', 'Mane Five', 'Mane Moon', 'Mane Six', 'Mane Six and Spike', 'Marble Pie', 'Masked Nurse', 'Masked Pony 2', 'Matilda', 'Matronly Pony', 'Maud Pie', 'Mayor Baltimare', 'Mayor Cream Cheese', 'Mayor Mare', 'McColts', 'Meadow Flower', 'Meadow Song', \"Meadowbrook's Mother\", 'Merry May', 'Messenger Pony', 'Minuette', 'Mistmane', 'Misty Fly', 'Mook dogs', 'Moon Dancer', 'Mori', 'Mr. Breezy', 'Mr. Cake', 'Mr. Cake and Mrs. Cake', 'Mr. Greenhooves', 'Mr. Paleo', 'Mr. Shy', 'Mr. Stripes', 'Mr. Turnip', 'Mr. Waddle', 'Mrs Cake', 'Mrs. Cake', 'Mrs. Paleo', 'Mrs. Paleo and Mr. Paleo', 'Mrs. Shy', 'Mrs. Trotsworth', 'Ms. Harshwhinny', 'Ms. Peachbottom', 'Mudbriar', 'Mule', 'Mulia Mild', 'Mullet', 'My happy village lay in ruins Relationships got worse Spoiler alert', 'Mysterious Voice', 'Narrator', 'Neigh Sayer', 'Neighsay', 'Newspaper Pony', 'Night Glider', 'Night Light', 'Night Watch', 'Nightjar', 'Nightjar and Zipporwhill', 'Nightmare Moon', 'Noi', 'Noteworthy', 'Nurse Redheart', 'Nurse Snowheart', 'Oak Nut', 'Ocean Flow', 'Ocellus', 'Octavia Melody', 'Official', \"Ol' Salt\", 'Old Money', 'On Stage', 'Open Skies', 'Orange Slice', 'Orange Swirl', 'Other main cast', 'Other ponies', 'Others', 'Out of Town Pony', 'Out of Town Pony 2', 'Owlowiscious', 'Pancakes', 'Parcel Post', 'Party Favor', 'Passing Changeling', 'Past Twilight Sparkle', 'Peachy Pitt', 'Pear Butter', 'Pearly Stitch', 'Pegasi', 'Pegasus Fillies', 'Pest Control Pony', 'Petunia Paleo', 'Pharynx', 'Photo Finish', 'Photographer', 'Pi<f1>ata', 'Pig Creature 1', 'Pig Creature 2', 'Pinkie Pie Duplicate 2', 'Pinkie Pie Duplicate 4', 'Pinkie Pie Duplicate 6', 'Pinkie Pie Duplicates', 'Pinkie Pie and Pinkie Pie 2', 'Pinkie Pie voicing a bag of flour', 'Pinkie Pie voicing a pile of rocks', 'Pipsqueak', 'Pistachio', 'Plaid Stripes', 'Ponies', 'Ponies in unison', 'Pony', 'Pony 1', 'Pony 2', 'Pony Vendor 1', 'Pony Vendor 2', 'Pony in Window', 'Pony of Shadows', 'Porter Pony', 'Pound Cake', 'Pretzel', 'Prim Hemline', 'Prince Blueblood', 'Prince Rutherford', 'Princess Cadance', 'Princess Cadance and Shining Armor', 'Princess Celestia', 'Princess Ember', 'Princess Luna', 'Princess Skystar', 'Princess Skystar and Seaponies', 'Professor Bill Neigh', 'Professor Flintheart', 'Professor Fossil', 'Public Works Pony', 'Pumpkin Cake', 'Pursey Pink', 'Pushkin', 'Queen Chrysalis', 'Queen Novo', 'Quibble Pants', 'Rachel Platten', 'Rain Shine', 'Rainbow Dash and Discord', 'Rainbowshine', 'Rainbowshine and Sprinkle Medley', 'Random Villager', 'Rare Find', 'Rarity Angel', 'Raspberry Beret', 'Razer', 'Red apples', 'Registration Pony', 'Reporter Pony', 'Rest of Young Six', 'Rest of main cast', 'Rest of main cast and Cutie Mark Crusaders', 'Rest of main cast sans Twilight', 'Rest of recruits', 'Rest of students', 'Rest of the Mane Six', 'Rest of the Mane Six and Spike', 'Rockhoof', 'Rocky', 'Rolling Thunder', 'Rose', 'Round Pony', 'Rover', 'Royal Guard', 'Royal Ribbon', 'Royal Riff', 'Royal guard 1', 'Royal guard 2', 'Rumble', 'Rumble and Foals', 'Rusty Tenure', 'Sable Spirit', 'Saddle Arabian delegates', 'Saffron Masala', 'Salespony', 'Sand Trap', 'Sandbar', 'Sapphire Joy', 'Sapphire Shores', 'Sassaflash', 'Sassy Saddles', 'Savoir Fare', 'Scaly Klugetowner', 'Sclerite', 'Scootaloo', 'Scootaloo and Apple Bloom', 'Scootaloo and Sweetie Belle', 'Sea Swirl', 'Seabreeze', 'Seaponies', 'Seaspray', 'Security Guard', 'Security Guard 2', 'Security guard', 'Senior Deputy', 'Shadowbolt Leader', 'Sheep', 'Sheriff Silverstar', 'Shining Armor', 'Shining Armor and Princess Cadance', 'Shoeshine', 'Shopkeeper', 'Short Fuse', 'Short Pony', 'Silver Berry', 'Silver Frames', 'Silver Shill', 'Silver Spoon', 'Silverstream', 'Silverstream and Smolder', 'Sir Lintsalot', 'Sir Spike', 'Skeedaddle', 'Sky Beak', 'Sky Stinger', 'Slowing down', 'Sludge', 'Smolder', 'Snails', 'Snips', 'Snips and Snails', 'Soarin', 'Somnambula', 'Songbird Serenade', 'Spearhead', 'Spectator', 'Spike', 'Spike and Discord', 'Spike and Starlight Glimmer', 'Spitfire', 'Spoiled Milk', 'Spoiled Rich', 'Spot', 'Sprinkle Medley', 'Squizard', 'Stallion', 'Stallions', 'Star Spur', 'Star Swirl the Bearded', 'Star Tracker', 'Starlight Glimmer', 'Starlight Glimmer and Mane Six', 'Starlight Glimmer and Princess Luna', 'Starlight Glimmer and Sunburst', 'Starlight Glimmer and Thorax', 'Starlight Glimmer and Trixie', 'Starstreak', 'Steam Roller', 'Steam Roller and Jack Hammer', 'Stellar Eclipse', 'Stellar Flare', 'Stepford Pony 1', 'Stepford Pony 2', 'Steven Magnet', 'Stinky Bottom', 'Storekeeper', 'Storm Creature', 'Stormy Flare', 'Strawberry Ice', 'Strawberry Sunrise', 'Street Pony', 'Student 1', 'Student 2', 'Student 4', 'Students', 'Stygian', 'Sugar Belle', 'Sunburst', 'Sunshower', 'Suri Polomare', 'Surprise', 'Svengallop', 'Swan Song', 'Sweet Apple Admirer', 'Sweetie Belle', 'Sweetie Belle and Scootaloo', 'Sweetie Drops', 'Tall Order', 'Tall Pony', 'Teenage dragons', 'Tempest Shadow', 'Tender Taps', 'Terramar', 'The Olden Pony', 'The Pony Tones', 'The Storm King', 'Thorax', 'Thunderlane', 'Ticket Taker Pony', 'Toola Roola', 'Torch Song', 'Tourist Pony', 'Tourist Pony 1', 'Townspony 1', 'Townspony 2', 'Townspony 3', 'Townspony 4', 'Train Conductor', 'Train conductor', 'Trapeze Star', 'Tree Hugger', 'Tree of Harmony', 'Trenderhoof', 'Trixie', 'Trixie and Thorax', 'Trouble Shoes', 'Truffle', 'Trxie', 'Twilight', 'Twilight Sparkle', 'Twilight Velvet', 'Twilight and Cadance', 'Twinkleshine', 'Twirly', 'Twist', 'Tymbal', 'Uncle Orange', 'Unicorns', 'Unidentified cow', 'Upper Crust', 'Valley Trend', 'Vapor Trail', 'Vendor 1', 'Vendor 2', 'Vendor Pony', 'Vera', 'Verko', 'Villager', 'Vinny', 'Wensley', 'Whinnyfield', 'Wild Fire', 'Wind Rider', 'Windy Whistles', 'Wrangler', 'Yak', 'Yak Kid 1', 'Yak Kid 2', 'Yak waiter', 'Yaks', 'Yigrid', 'Yona', 'Yona and family', 'Young Apple Rose', 'Young Big McIntosh', 'Young Big McIntosh and Granny Smith', 'Young Bright McIntosh', 'Young Cadance', 'Young Changeling', 'Young Coloratura', 'Young Gilda', 'Young Grand Pear', 'Young Granny Smith', 'Young Hoops', 'Young Hoops and Young Pegasi', 'Young Mayor Mare', 'Young Moon Dancer', 'Young Pear Butter', 'Young Pharynx', 'Young Rarity', 'Young Six', 'Young Six sans Sandbar', 'Young Sky Stinger', 'Young Starlight Glimmer', 'Young Sunburst', 'Young Thorax', 'Young Trouble Shoes', 'Young Vapor Trail', 'Zecora', 'Zephyr Breeze', 'Zesty Gourmand', 'Zipporwhill', 'Zombie ponies', 'blows', 'in background', 'to Needy']\n"
     ]
    }
   ],
   "metadata": {}
  }
 ],
 "metadata": {
  "orig_nbformat": 4,
  "language_info": {
   "name": "python",
   "version": "3.8.8",
   "mimetype": "text/x-python",
   "codemirror_mode": {
    "name": "ipython",
    "version": 3
   },
   "pygments_lexer": "ipython3",
   "nbconvert_exporter": "python",
   "file_extension": ".py"
  },
  "kernelspec": {
   "name": "python3",
   "display_name": "Python 3.8.8 64-bit ('base': conda)"
  },
  "interpreter": {
   "hash": "ffd5a179c6ef52c71e69c8ed24f560a64a8a0ad11493f78783b856695a667b37"
  }
 },
 "nbformat": 4,
 "nbformat_minor": 2
}